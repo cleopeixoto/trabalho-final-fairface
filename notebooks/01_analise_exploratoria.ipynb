{
 "cells": [
  {
   "cell_type": "code",
   "execution_count": null,
   "id": "bd7ec216",
   "metadata": {},
   "outputs": [],
   "source": [
    "import pandas as pd\n",
    "import os\n",
    "import matplotlib.pyplot as plt\n",
    "import seaborn as sns\n",
    "\n",
    "# Carregar dados\n",
    "DATA_DIR = \"./data/FairFace\"\n",
    "train_df = pd.read_csv(os.path.join(DATA_DIR, \"train\", \"train_labels.csv\"))\n",
    "val_df = pd.read_csv(os.path.join(DATA_DIR, \"val\", \"val_labels.csv\"))\n",
    "\n",
    "# Visualizar primeiras linhas\n",
    "print(train_df.head())\n",
    "\n",
    "# Ver distribuição das faixas etárias\n",
    "plt.figure(figsize=(10, 4))\n",
    "sns.countplot(data=train_df, x='age')  # ajuste a coluna conforme o nome no CSV\n",
    "plt.title(\"Distribuição de Faixas Etárias no Treinamento\")\n",
    "plt.xticks(rotation=45)\n",
    "plt.tight_layout()\n",
    "plt.show()"
   ]
  }
 ],
 "metadata": {
  "kernelspec": {
   "display_name": "Python 3",
   "language": "python",
   "name": "python3"
  },
  "language_info": {
   "name": "python",
   "version": "3.13.5"
  }
 },
 "nbformat": 4,
 "nbformat_minor": 5
}
