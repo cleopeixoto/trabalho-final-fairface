{
 "cells": [
  {
   "cell_type": "code",
   "execution_count": null,
   "id": "f46e83fb",
   "metadata": {},
   "outputs": [],
   "source": [
    "import pandas as pd\n",
    "import os\n",
    "\n",
    "# Caminho para os arquivos\n",
    "DATA_DIR = \"../data/FairFace\"\n",
    "train_df = pd.read_csv(os.path.join(DATA_DIR, \"fairface_label_train.csv\"))\n",
    "val_df = pd.read_csv(os.path.join(DATA_DIR, \"fairface_label_val.csv\"))\n",
    "\n",
    "print(train_df.head())"
   ]
  }
 ],
 "metadata": {
  "kernelspec": {
   "display_name": "Python 3",
   "language": "python",
   "name": "python3"
  },
  "language_info": {
   "name": "python",
   "version": "3.13.5"
  }
 },
 "nbformat": 4,
 "nbformat_minor": 5
}
