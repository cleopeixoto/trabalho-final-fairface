{
 "cells": [
  {
   "cell_type": "markdown",
   "id": "d89e2819",
   "metadata": {},
   "source": [
    "# Pré processamento dos dados"
   ]
  },
  {
   "cell_type": "code",
   "execution_count": null,
   "id": "f06a942b",
   "metadata": {},
   "outputs": [],
   "source": [
    "# Importação das bibliotecas\n",
    "import os\n",
    "import pandas as pd\n",
    "from tensorflow.keras.preprocessing.image import ImageDataGenerator\n",
    "import matplotlib.pyplot as plt\n",
    "import numpy as np\n",
    "\n",
    "# Caminhos para dados e rótulos\n",
    "DATA_DIR = \"../data/FairFace/train\"\n",
    "LABELS_PATH = \"../data/FairFace/train_labels.csv\"\n",
    "\n",
    "# Carregar DataFrame\n",
    "df = pd.read_csv(LABELS_PATH)\n",
    "print(\"Total de imagens no CSV de treino:\", len(df))\n",
    "df.head()"
   ]
  },
  {
   "cell_type": "code",
   "execution_count": null,
   "id": "43668d34",
   "metadata": {},
   "outputs": [],
   "source": [
    "# Visulização de algumas imagens para validação manual\n",
    "from PIL import Image\n",
    "from IPython.display import display\n",
    "\n",
    "for i in range(3):\n",
    "    img_path = os.path.join(DATA_DIR, df['file'].iloc[i])\n",
    "    img = Image.open(img_path)\n",
    "    print(f\"Idade: {df['age'].iloc[i]}\")\n",
    "    display(img)"
   ]
  },
  {
   "cell_type": "markdown",
   "id": "f0156c16",
   "metadata": {},
   "source": [
    "# Conversão dos rótulos em categorias\n",
    "\n",
    "O modelo espera que os rótulos de faixa etária estejam em formato categórico, então o ImageDataGenerator faz essa conversão ao usar class_mode='categorical'.\n",
    "\n",
    "# Normalização de pixels\n",
    "\n",
    "Além disso, as imagens devem ter os pixels normalizados entre 0 e 1. Para isso, utilizamos o parâmetro rescale=1./255.\n",
    "Esta etapa ajuda na estabilidade do treinamento.\n",
    "\n",
    "# Divisão entre treino e validação\n",
    "Embora os dados baixados via Kaggle já estejam divididos entre treino (88%) e validação (12%) como visto na etapa de análise exploratória, contudo é uma boa prática de desenvolvimento re-dividir o conjunto de treinamento para fazer validação interna.\n",
    "A ideia é testar o modelo final utilizando o conjunto de validação (não utilizado agora) como uma validação final.\n",
    "\n",
    "Para fazer a divisão de forma automática e rápida, o ImageDataGenerator também permite com o parâmetro validation_split."
   ]
  },
  {
   "cell_type": "code",
   "execution_count": null,
   "id": "15155569",
   "metadata": {},
   "outputs": [],
   "source": [
    "# Criar o gerador de imagens com normalização e split\n",
    "datagen = ImageDataGenerator(\n",
    "    rescale=1./255,\n",
    "    validation_split=0.1\n",
    ")"
   ]
  },
  {
   "cell_type": "markdown",
   "id": "506a3438",
   "metadata": {},
   "source": [
    "# Redimensionamento de imagens\n",
    "\n",
    "É importante na etapa de pre-processamento garantir que todas as imagens estejam padronizadas no tamanho de entrada, portanto é importante redimensioná-las para um tamanho fixo. \n",
    "\n",
    "O tamanho de 224x224 pixels é comum para redes pré-treinadas."
   ]
  },
  {
   "cell_type": "code",
   "execution_count": null,
   "id": "ff0820b7",
   "metadata": {},
   "outputs": [],
   "source": [
    "# Criar o gerador de treino\n",
    "train_gen = datagen.flow_from_dataframe(\n",
    "    dataframe=df,\n",
    "    directory=DATA_DIR,\n",
    "    x_col='file',\n",
    "    y_col='age',\n",
    "    target_size=(224, 224),\n",
    "    class_mode='categorical',\n",
    "    batch_size=32,\n",
    "    subset='training',\n",
    "    seed=42\n",
    ")"
   ]
  },
  {
   "cell_type": "code",
   "execution_count": null,
   "id": "76cbbea5",
   "metadata": {},
   "outputs": [],
   "source": [
    "# Criar o gerador de validação\n",
    "val_gen = datagen.flow_from_dataframe(\n",
    "    dataframe=df,\n",
    "    directory=DATA_DIR,\n",
    "    x_col='file',\n",
    "    y_col='age',\n",
    "    target_size=(224, 224),\n",
    "    class_mode='categorical',\n",
    "    batch_size=32,\n",
    "    subset='validation',\n",
    "    seed=42\n",
    ")"
   ]
  },
  {
   "cell_type": "markdown",
   "id": "8ff028ff",
   "metadata": {},
   "source": [
    "# Visualização de imagens para validação visual\n",
    "\n",
    "Esta não é uma etapa mandatória, porém é interessante visualizarmos as imagens após o pré-processamento pra validar que as mesmas estão sendo carregadas corretamente e as faixas etárias (que é classe a prever) está sendo mapeada de forma correta."
   ]
  },
  {
   "cell_type": "code",
   "execution_count": null,
   "id": "ad196eb3",
   "metadata": {},
   "outputs": [],
   "source": [
    "# Visualizar um batch de imagens do gerador de treino\n",
    "images, labels = next(train_gen)\n",
    "\n",
    "plt.figure(figsize=(10, 10))\n",
    "for i in range(9):\n",
    "    plt.subplot(3, 3, i+1)\n",
    "    plt.imshow(images[i])\n",
    "    plt.axis('off')\n",
    "plt.suptitle(\"Exemplos de imagens normalizadas (224x224)\")\n",
    "plt.tight_layout()\n",
    "plt.show()"
   ]
  }
 ],
 "metadata": {
  "kernelspec": {
   "display_name": "Python 3",
   "language": "python",
   "name": "python3"
  },
  "language_info": {
   "codemirror_mode": {
    "name": "ipython",
    "version": 3
   },
   "file_extension": ".py",
   "mimetype": "text/x-python",
   "name": "python",
   "nbconvert_exporter": "python",
   "pygments_lexer": "ipython3",
   "version": "3.10.12"
  }
 },
 "nbformat": 4,
 "nbformat_minor": 5
}
