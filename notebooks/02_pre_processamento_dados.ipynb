{
 "cells": [
  {
   "cell_type": "code",
   "execution_count": null,
   "id": "15155569",
   "metadata": {},
   "outputs": [],
   "source": [
    "from tensorflow.keras.preprocessing.image import ImageDataGenerator\n",
    "import pandas as pd\n",
    "import os\n",
    "\n",
    "# Caminhos\n",
    "DATA_DIR = '../data/train'\n",
    "LABELS_PATH = '../data/train/train_labels.csv'\n",
    "\n",
    "# Carregar CSV\n",
    "df = pd.read_csv(LABELS_PATH)\n",
    "\n",
    "# Gerador de imagens\n",
    "datagen = ImageDataGenerator(rescale=1./255, validation_split=0.1)\n",
    "\n",
    "train_gen = datagen.flow_from_dataframe(\n",
    "    dataframe=df,\n",
    "    directory=DATA_DIR,\n",
    "    x_col='file',  # Coluna com nome do arquivo da imagem\n",
    "    y_col='age',   # Coluna da faixa etária\n",
    "    target_size=(224, 224),\n",
    "    class_mode='categorical',\n",
    "    batch_size=32,\n",
    "    subset='training'\n",
    ")\n",
    "\n",
    "val_gen = datagen.flow_from_dataframe(\n",
    "    dataframe=df,\n",
    "    directory=DATA_DIR,\n",
    "    x_col='file',\n",
    "    y_col='age',\n",
    "    target_size=(224, 224),\n",
    "    class_mode='categorical',\n",
    "    batch_size=32,\n",
    "    subset='validation'\n",
    ")"
   ]
  }
 ],
 "metadata": {
  "language_info": {
   "name": "python"
  }
 },
 "nbformat": 4,
 "nbformat_minor": 5
}
