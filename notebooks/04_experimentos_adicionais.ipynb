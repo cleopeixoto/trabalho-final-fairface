{
 "cells": [
  {
   "cell_type": "markdown",
   "id": "74600325",
   "metadata": {},
   "source": [
    "# Etapa 4: Experimentos adicionais\n",
    "\n",
    "Esta etapa visa realizar experimentos adicionais a fim de aplicar variações no modelo e compará-los ao final.\n",
    "Serão realizados 6 experimentos:\n",
    "- Experimento 1: Fine-tuning do MobileNetV2\n",
    "- Experimento 2: Utilização de outra rede - ResNet50\n",
    "- Experimento 3: Utilização de outra rede - EfficientNetB0\n",
    "- Experimento 4: Variação de dropout\n",
    "- Experimento 5: Variação de learning rate\n",
    "- Experimento 6: Variação de batch size"
   ]
  },
  {
   "cell_type": "code",
   "execution_count": null,
   "id": "b8b2a411",
   "metadata": {},
   "outputs": [],
   "source": [
    "# Importando funções compartilhadas do utils\n",
    "from utils import build_model, build_generators, plot_history, ModelType\n",
    "\n",
    "# Importações\n",
    "import os\n",
    "import pandas as pd\n",
    "import tensorflow as tf\n",
    "import matplotlib.pyplot as plt\n",
    "\n",
    "# Keras imports\n",
    "from tensorflow.keras import layers, models\n",
    "from tensorflow.keras.applications import MobileNetV2, ResNet50, EfficientNetB0\n",
    "from tensorflow.keras.preprocessing.image import ImageDataGenerator\n",
    "from tensorflow.keras.applications.mobilenet_v2 import preprocess_input as mobilenet_preprocess\n",
    "from tensorflow.keras.applications.resnet50 import preprocess_input as resnet_preprocess\n",
    "from tensorflow.keras.applications.efficientnet import preprocess_input as efficientnet_preprocess\n",
    "from tensorflow.keras.optimizers import Adam\n",
    "\n",
    "import warnings\n",
    "warnings.filterwarnings(\"ignore\", category=UserWarning)"
   ]
  },
  {
   "cell_type": "code",
   "execution_count": null,
   "id": "0de48e4d",
   "metadata": {},
   "outputs": [],
   "source": [
    "# Definição de caminhos\n",
    "DATA_DIR = \"../data/FairFace\"\n",
    "SPLITS_DIR = \"../splits\"\n",
    "MODEL_SAVE_DIR = \"../models\"\n",
    "WEIGHTS_PATH = \"../weights/mobilenet_v2_weights_tf_dim_ordering_tf_kernels_1.0_224_no_top.h5\"\n",
    "\n",
    "# Definição de parâmetros comuns (os mesmos do modelo base)\n",
    "IMG_SIZE = (224, 224)\n",
    "EPOCHS = 10\n",
    "BATCH_SIZE = 32\n",
    "LEARNING_RATE = 1e-4\n",
    "\n",
    "# Carregar CSVs com splits processados\n",
    "df_train = pd.read_csv(os.path.join(SPLITS_DIR, \"train_split.csv\"))\n",
    "df_val = pd.read_csv(os.path.join(SPLITS_DIR, \"val_split.csv\"))\n",
    "df_train['label'] = df_train['label'].astype(str)\n",
    "df_val['label'] = df_val['label'].astype(str)\n",
    "NUM_CLASSES = df_train['label'].nunique()"
   ]
  },
  {
   "cell_type": "code",
   "execution_count": null,
   "id": "0563ebf8",
   "metadata": {},
   "outputs": [],
   "source": [
    "# Geradores do mobilenetv2\n",
    "mobilenet_train_gen, mobilenet_val_gen = build_generators(df_train, df_val, DATA_DIR, IMG_SIZE, BATCH_SIZE, mobilenet_preprocess)"
   ]
  },
  {
   "cell_type": "markdown",
   "id": "01f41496",
   "metadata": {},
   "source": [
    "# Experimento 1: **Fine-tuning** do MobileNetV2"
   ]
  },
  {
   "cell_type": "code",
   "execution_count": null,
   "id": "d76e306e",
   "metadata": {},
   "outputs": [],
   "source": [
    "# Construção do modelo\n",
    "fine_tuned_model = build_model(\n",
    "    model_type=ModelType.MOBILENET,\n",
    "    input_shape=IMG_SIZE,\n",
    "    num_classes=NUM_CLASSES,\n",
    "    dropout_rate=0.5,\n",
    "    fine_tune_at=-20\n",
    ")\n",
    "\n",
    "fine_tuned_model.compile(\n",
    "    optimizer=Adam(learning_rate=LEARNING_RATE),\n",
    "    loss='categorical_crossentropy',\n",
    "    metrics=['accuracy']\n",
    ")\n",
    "\n",
    "# Treinar modelo\n",
    "finetuned_history = fine_tuned_model.fit(\n",
    "    mobilenet_train_gen,\n",
    "    validation_data=mobilenet_val_gen,\n",
    "    epochs=EPOCHS\n",
    ")\n",
    "\n",
    "# Salvar modelo\n",
    "fine_tuned_model.save(os.path.join(MODEL_SAVE_DIR, \"mobilenetv2_finetuned.keras\"))\n",
    "\n",
    "# Verificar resultados\n",
    "plot_history(finetuned_history, title_suffix=\"(Fine-tuning MobileNetV2)\")"
   ]
  },
  {
   "cell_type": "markdown",
   "id": "936db09a",
   "metadata": {},
   "source": [
    "# Experimento 2: MobileNetV2 com variação de **Dropout (0.2)**"
   ]
  },
  {
   "cell_type": "code",
   "execution_count": null,
   "id": "d3139e2d",
   "metadata": {},
   "outputs": [],
   "source": [
    "# Construção do modelo\n",
    "dropout_model = build_model(ModelType.MOBILENET, IMG_SIZE, NUM_CLASSES, dropout_rate=0.2)\n",
    "fine_tuned_model = build_model(\n",
    "    model_type=ModelType.MOBILENET,\n",
    "    input_shape=IMG_SIZE,\n",
    "    num_classes=NUM_CLASSES,\n",
    "    dropout_rate=0.5,\n",
    "    fine_tune_at=-20\n",
    ")\n",
    "\n",
    "dropout_model.compile(\n",
    "  optimizer=Adam(learning_rate=LEARNING_RATE),\n",
    "  loss='categorical_crossentropy',\n",
    "  metrics=['accuracy']\n",
    ")\n",
    "\n",
    "# Treinar modelo\n",
    "dropout_history = dropout_model.fit(\n",
    "  mobilenet_train_gen,\n",
    "  validation_data=mobilenet_val_gen,\n",
    "  epochs=EPOCHS\n",
    ")\n",
    "\n",
    "# Salvar modelo\n",
    "dropout_model.save(os.path.join(MODEL_SAVE_DIR, \"mobilenetv2_dropout02.keras\"))\n",
    "\n",
    "# Verificar resultados\n",
    "plot_history(dropout_history, title_suffix=\"(Dropout 0.2)\")"
   ]
  },
  {
   "cell_type": "markdown",
   "id": "2071bcfb",
   "metadata": {},
   "source": [
    "# Experimento 3: MobileNetV2 com variação de **learning rate (1e-3)**"
   ]
  },
  {
   "cell_type": "code",
   "execution_count": null,
   "id": "a1da7db6",
   "metadata": {},
   "outputs": [],
   "source": [
    "# Construção do modelo\n",
    "learning_rate_model = build_model(ModelType.MOBILENET, IMG_SIZE, NUM_CLASSES, dropout_rate=0.5)\n",
    "learning_rate_model.compile(\n",
    "  optimizer=Adam(learning_rate=1e-3),\n",
    "  loss='categorical_crossentropy',\n",
    "  metrics=['accuracy']\n",
    ")\n",
    "\n",
    "# Treinar modelo\n",
    "learning_rate_history = learning_rate_model.fit(\n",
    "  mobilenet_train_gen,\n",
    "  validation_data=mobilenet_val_gen,\n",
    "  epochs=EPOCHS\n",
    ")\n",
    "\n",
    "# Salvar modelo\n",
    "learning_rate_model.save(os.path.join(MODEL_SAVE_DIR, \"mobilenetv2_lr1e3.keras\"))\n",
    "\n",
    "# Verificar resultados\n",
    "plot_history(learning_rate_history, title_suffix=\"(LR = 1e-3)\")"
   ]
  },
  {
   "cell_type": "markdown",
   "id": "5b05d241",
   "metadata": {},
   "source": [
    "# Experimento 4: MobileNetV2 com variação de **Batch Size 64**"
   ]
  },
  {
   "cell_type": "code",
   "execution_count": null,
   "id": "a340c4bf",
   "metadata": {},
   "outputs": [],
   "source": [
    "# Construção do modelo\n",
    "bs64_model = build_model(ModelType.MOBILENET, IMG_SIZE, NUM_CLASSES, dropout_rate=0.5)\n",
    "bs64_model.compile(\n",
    "  optimizer=Adam(learning_rate=LEARNING_RATE),\n",
    "  loss='categorical_crossentropy',\n",
    "  metrics=['accuracy']\n",
    ")\n",
    "\n",
    "# Treinar o modelo\n",
    "bs64_history = bs64_model.fit(\n",
    "  mobilenet_train_gen,\n",
    "  validation_data=mobilenet_val_gen,\n",
    "  epochs=EPOCHS\n",
    ")\n",
    "\n",
    "# Salvar o modelo\n",
    "bs64_model.save(os.path.join(MODEL_SAVE_DIR, \"mobilenetv2_bs64.keras\"))\n",
    "\n",
    "# Verificar resultados\n",
    "plot_history(bs64_history, title_suffix=\"(Batch size 64)\")"
   ]
  },
  {
   "cell_type": "markdown",
   "id": "57b105dc",
   "metadata": {},
   "source": [
    "# Experimento 5: Utilização da rede **ResNet50**\n",
    "\n",
    "Como esta rede possui uma nova arquitetura, precisaremos definir novos geradores."
   ]
  },
  {
   "cell_type": "code",
   "execution_count": null,
   "id": "60c0281f",
   "metadata": {},
   "outputs": [],
   "source": [
    "resnet_train_gen, resnet_val_gen = build_generators(df_train, df_val, DATA_DIR, IMG_SIZE, BATCH_SIZE, resnet_preprocess)\n",
    "\n",
    "# Construção do modelo\n",
    "resnet_model = build_model(ModelType.RESNET, IMG_SIZE, NUM_CLASSES, dropout_rate=0.5)\n",
    "resnet_model.compile(\n",
    "  optimizer=Adam(learning_rate=LEARNING_RATE),\n",
    "  loss='categorical_crossentropy',\n",
    "  metrics=['accuracy']\n",
    ")\n",
    "\n",
    "# Treinamento do modelo\n",
    "resnet_history = resnet_model.fit(\n",
    "  resnet_train_gen,\n",
    "  validation_data=resnet_val_gen,\n",
    "  epochs=EPOCHS\n",
    ")\n",
    "\n",
    "# Salvar modelo\n",
    "resnet_model.save(os.path.join(MODEL_SAVE_DIR, \"resnet50.keras\"))\n",
    "\n",
    "# Verificar resultados\n",
    "plot_history(resnet_history, title_suffix=\"(ResNet50)\")"
   ]
  },
  {
   "cell_type": "markdown",
   "id": "f7bb25be",
   "metadata": {},
   "source": [
    "# Experimento 6: Utilização da rede **EfficientNetB0**"
   ]
  },
  {
   "cell_type": "code",
   "execution_count": null,
   "id": "f7c714c6",
   "metadata": {},
   "outputs": [],
   "source": [
    "# Definição dos geradores\n",
    "efficientnet_train_gen, efficientnet_val_gen = build_generators(df_train, df_val, DATA_DIR, IMG_SIZE, BATCH_SIZE, efficientnet_preprocess)\n",
    "\n",
    "# Construção do modelo\n",
    "efficientnet_model = build_model(ModelType.EFFICIENTNET, IMG_SIZE, NUM_CLASSES)\n",
    "efficientnet_model.compile(\n",
    "  optimizer=Adam(learning_rate=LEARNING_RATE),\n",
    "  loss='categorical_crossentropy',\n",
    "  metrics=['accuracy']\n",
    ")\n",
    "\n",
    "# Treinamento do modelo\n",
    "efficientnet_history = efficientnet_model.fit(\n",
    "  efficientnet_train_gen,\n",
    "  validation_data=efficientnet_val_gen,\n",
    "  epochs=EPOCHS\n",
    ")\n",
    "\n",
    "# Salvar modelo\n",
    "efficientnet_model.save(os.path.join(MODEL_SAVE_DIR, \"efficientnetb0.keras\"))\n",
    "\n",
    "# Verificar resultados\n",
    "plot_history(efficientnet_history, title_suffix=\"(EfficientNetB0)\")"
   ]
  }
 ],
 "metadata": {
  "kernelspec": {
   "display_name": "Python (FairFace)",
   "language": "python",
   "name": "fairface-env"
  },
  "language_info": {
   "codemirror_mode": {
    "name": "ipython",
    "version": 3
   },
   "file_extension": ".py",
   "mimetype": "text/x-python",
   "name": "python",
   "nbconvert_exporter": "python",
   "pygments_lexer": "ipython3",
   "version": "3.11.6"
  }
 },
 "nbformat": 4,
 "nbformat_minor": 5
}
